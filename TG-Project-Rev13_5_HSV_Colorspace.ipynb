{
 "cells": [
  {
   "cell_type": "markdown",
   "metadata": {
    "deletable": true,
    "editable": true
   },
   "source": [
    "Behavioral Cloning Project - Driving Simulator"
   ]
  },
  {
   "cell_type": "code",
   "execution_count": null,
   "metadata": {
    "collapsed": false,
    "deletable": true,
    "editable": true
   },
   "outputs": [
    {
     "name": "stderr",
     "output_type": "stream",
     "text": [
      "100%|██████████| 8036/8036 [00:54<00:00, 147.35it/s]"
     ]
    },
    {
     "name": "stdout",
     "output_type": "stream",
     "text": [
      "24108\n",
      "24108\n",
      "19747\n"
     ]
    },
    {
     "name": "stderr",
     "output_type": "stream",
     "text": [
      "\n"
     ]
    }
   ],
   "source": [
    "import csv\n",
    "import cv2\n",
    "import numpy as np\n",
    "from tqdm import tqdm   #Library for progress bar on for loops.\n",
    "\n",
    "#Read in the csv file.\n",
    "lines = []\n",
    "with open('../data/driving_log.csv', 'r') as csvfile:\n",
    "    reader = csv.reader(csvfile)\n",
    "    next(csvfile)                       #Skip the header\n",
    "    for line in reader:\n",
    "        lines.append(line)\n",
    "\n",
    "correction = 0.3  #Hyperparameter to tune\n",
    "        \n",
    "#Filling X_train and y_train        \n",
    "images = []\n",
    "measurements = []\n",
    "for line in tqdm(lines):\n",
    "    #Center camera\n",
    "    source_path = line[0]\n",
    "    filename = source_path.split('/')[-1]\n",
    "    current_path = '../data/IMG/' + filename\n",
    "    image = cv2.imread(current_path)\n",
    "    images.append(image)\n",
    "    measurement = float(line[3])\n",
    "    measurements.append(measurement)    \n",
    "    \n",
    "    #Left camera\n",
    "    source_path = line[1]\n",
    "    filename = source_path.split('/')[-1]\n",
    "    current_path = '../data/IMG/' + filename\n",
    "    image = cv2.imread(current_path)\n",
    "    images.append(image)\n",
    "    measurement = float(line[3])\n",
    "    measurements.append(measurement + correction)\n",
    "    \n",
    "    #Right camera\n",
    "    source_path = line[2]\n",
    "    filename = source_path.split('/')[-1]\n",
    "    current_path = '../data/IMG/' + filename\n",
    "    image = cv2.imread(current_path)\n",
    "    images.append(image)\n",
    "    measurement = float(line[3])\n",
    "    measurements.append(measurement - correction)\n",
    "\n",
    "\n",
    "print(len(images))\n",
    "print(len(measurements))\n",
    "print(np.count_nonzero(np.array(measurements))) #This is a measure of the quality of the training data. The higher the better."
   ]
  },
  {
   "cell_type": "code",
   "execution_count": null,
   "metadata": {
    "collapsed": false,
    "deletable": true,
    "editable": true
   },
   "outputs": [
    {
     "name": "stderr",
     "output_type": "stream",
     "text": [
      " 15%|█▍        | 3526/24108 [00:03<00:16, 1235.36it/s]"
     ]
    }
   ],
   "source": [
    "from cv2 import resize\n",
    "resized_images = []\n",
    "for image in tqdm(images):\n",
    "    image = cv2.cvtColor(image, cv2.COLOR_BGR2HSV)\n",
    "    resized_images.append(cv2.resize(image,dsize=(64,64)))\n",
    "\n",
    "print(len(resized_images))"
   ]
  },
  {
   "cell_type": "code",
   "execution_count": null,
   "metadata": {
    "collapsed": false,
    "deletable": true,
    "editable": true
   },
   "outputs": [],
   "source": [
    "#Histogram of steering angles.\n",
    "%matplotlib inline\n",
    "import matplotlib\n",
    "import matplotlib.pyplot as plt\n",
    "import matplotlib.mlab as mlab\n",
    "\n",
    "# the histogram of the data\n",
    "n, bins, patches = plt.hist(measurements, 25)\n",
    "\n",
    "plt.xlabel('Angle')\n",
    "plt.ylabel('Occurances')\n",
    "plt.title('Histogram of steering angles.')\n",
    "plt.axis([-.5, .5, 0, 7000])\n",
    "plt.grid(True)\n",
    "\n",
    "plt.show()\n",
    "#Much more lefthand turning."
   ]
  },
  {
   "cell_type": "code",
   "execution_count": null,
   "metadata": {
    "collapsed": false
   },
   "outputs": [],
   "source": [
    "image_number = 4549\n",
    "h,s,v = cv2.split(resized_images[image_number])\n",
    "plt.imshow(h)\n",
    "plt.figure()\n",
    "plt.imshow(s)\n",
    "plt.figure()\n",
    "plt.imshow(v)\n",
    "\n",
    "#Ploting 'h', 's', and 'v' color channels (in that order)"
   ]
  },
  {
   "cell_type": "code",
   "execution_count": null,
   "metadata": {
    "collapsed": false,
    "deletable": true,
    "editable": true
   },
   "outputs": [],
   "source": [
    "#Using only the 's' channel from the HSV colorspace (saturation).\n",
    "#It seems to capture the edges best.\n",
    "\n",
    "#Also flipping the images for more balanced data.\n",
    "augmented_images, augmented_measurements = [], []\n",
    "for image, measurement in zip(resized_images,measurements):\n",
    "    augmented_images.append(image[:,:,1])\n",
    "    augmented_measurements.append(measurement)\n",
    "    augmented_images.append(cv2.flip(image[:,:,1],1))\n",
    "    augmented_measurements.append(measurement*-1.0)\n",
    "\n",
    "X_train = np.array(augmented_images)\n",
    "y_train = np.array(augmented_measurements)\n",
    "X_train = X_train.reshape((X_train.shape[0], X_train.shape[1],X_train.shape[2],1))\n",
    "#X_train = X_train.reshape((64, 128,1))\n",
    "print(X_train.shape)\n",
    "print(y_train.shape)"
   ]
  },
  {
   "cell_type": "code",
   "execution_count": null,
   "metadata": {
    "collapsed": false,
    "deletable": true,
    "editable": true
   },
   "outputs": [],
   "source": [
    "#Plotting an image and its flipped counterpart w/steering angles.\n",
    "#image_number = 9900 #Good image for MY data.\n",
    "image_number = 4549 #Good image for UDACITY data.\n",
    "\n",
    "\n",
    "#printing out some stats and plotting\n",
    "print('This image is:', type(X_train[image_number]), 'with dimensions:', X_train[image_number].shape)\n",
    "print('Steering angle: ',y_train[image_number])\n",
    "plt.imshow(X_train[image_number][:,:,0])"
   ]
  },
  {
   "cell_type": "code",
   "execution_count": null,
   "metadata": {
    "collapsed": false,
    "deletable": true,
    "editable": true
   },
   "outputs": [],
   "source": [
    "#Flipped image\n",
    "plt.imshow(X_train[image_number+1][:,:,0])\n",
    "print('Steering angle: ',y_train[image_number+1])"
   ]
  },
  {
   "cell_type": "code",
   "execution_count": null,
   "metadata": {
    "collapsed": false,
    "deletable": true,
    "editable": true
   },
   "outputs": [],
   "source": [
    "#Histogram of steering angles.\n",
    "\n",
    "# the histogram of the data\n",
    "n, bins, patches = plt.hist(y_train, 25)\n",
    "\n",
    "plt.xlabel('Angle')\n",
    "plt.ylabel('Occurances')\n",
    "plt.title('Histogram of steering angles.')\n",
    "plt.axis([-.5, .5, 0, 12000])\n",
    "plt.grid(True)\n",
    "\n",
    "plt.show()\n",
    "#Much better-looking distribution."
   ]
  },
  {
   "cell_type": "code",
   "execution_count": null,
   "metadata": {
    "collapsed": false,
    "deletable": true,
    "editable": true
   },
   "outputs": [],
   "source": [
    "#Build the Model\n",
    "from keras.models import Sequential, Model\n",
    "from keras.layers import Dense, Flatten, Lambda\n",
    "from keras.layers import Cropping2D\n",
    "from keras.layers import Activation, Dropout, ZeroPadding2D\n",
    "from keras.callbacks import ModelCheckpoint\n",
    "from keras.layers.convolutional import Conv2D\n",
    "from keras.layers.convolutional import MaxPooling2D\n",
    "\n",
    "model = Sequential()\n",
    "model.add(Lambda(lambda x: (x / 255.0) - 0.5, input_shape=(64,64,1)))\n",
    "model.add(Cropping2D(cropping=((25,10), (0,0))))\n",
    "\n",
    "model.add(Conv2D(24, (5, 5), padding='same', activation='relu'))\n",
    "model.add(MaxPooling2D(pool_size=(2, 2)))\n",
    "model.add(Dropout(0.5))\n",
    "model.add(Conv2D(36, (5, 5), padding='same', activation='relu'))\n",
    "model.add(MaxPooling2D(pool_size=(2, 2)))\n",
    "model.add(Dropout(0.5))\n",
    "\n",
    "\n",
    "model.add(Flatten())\n",
    "model.add(Dense(10,activation='relu'))\n",
    "model.add(Dense(1))\n",
    "\n",
    "#Use if continuing training from a previous checkpoint.\n",
    "#model.load_weights(\"../model_behavioral_cloning_7_1-00.h5\")\n",
    "\n",
    "model.compile(loss ='mse', optimizer='adam')\n",
    "\n",
    "filepath=\"../model_behavioral_cloning_13_5-{epoch:02d}.h5\"\n",
    "checkpoint = ModelCheckpoint(filepath, monitor='val_loss', verbose=1, save_best_only=False, mode='min')\n",
    "callbacks_list = [checkpoint]\n",
    "\n",
    "#Print out a summary of the model\n",
    "print(model.summary())"
   ]
  },
  {
   "cell_type": "code",
   "execution_count": null,
   "metadata": {
    "collapsed": false
   },
   "outputs": [],
   "source": [
    "#Train the Model\n",
    "history_object = model.fit(X_train,y_train,validation_split=0.2,shuffle=True, epochs=7,batch_size=512,callbacks=callbacks_list)"
   ]
  },
  {
   "cell_type": "code",
   "execution_count": null,
   "metadata": {
    "collapsed": false,
    "deletable": true,
    "editable": true
   },
   "outputs": [],
   "source": [
    "### print the keys contained in the history object\n",
    "print(history_object.history.keys())\n",
    "\n",
    "### plot the training and validation loss for each epoch\n",
    "plt.plot(history_object.history['loss'])\n",
    "plt.plot(history_object.history['val_loss'])\n",
    "plt.title('model mean squared error loss')\n",
    "plt.ylabel('mean squared error loss')\n",
    "plt.xlabel('epoch')\n",
    "plt.legend(['training set', 'validation set'], loc='upper right')\n",
    "plt.show()"
   ]
  }
 ],
 "metadata": {
  "anaconda-cloud": {},
  "kernelspec": {
   "display_name": "Python [conda env:carnd-term1]",
   "language": "python",
   "name": "conda-env-carnd-term1-py"
  },
  "language_info": {
   "codemirror_mode": {
    "name": "ipython",
    "version": 3
   },
   "file_extension": ".py",
   "mimetype": "text/x-python",
   "name": "python",
   "nbconvert_exporter": "python",
   "pygments_lexer": "ipython3",
   "version": "3.5.2"
  }
 },
 "nbformat": 4,
 "nbformat_minor": 1
}
